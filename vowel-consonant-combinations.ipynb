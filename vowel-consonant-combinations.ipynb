{
 "cells": [
  {
   "cell_type": "code",
   "execution_count": null,
   "id": "212c91b0",
   "metadata": {},
   "outputs": [],
   "source": [
    "import itertools\n",
    "import random"
   ]
  },
  {
   "cell_type": "code",
   "execution_count": null,
   "id": "b4d3f4e1",
   "metadata": {},
   "outputs": [],
   "source": [
    "vowels = [\"a\", \"e\", \"i\", \"o\", \"u\", \"y\"]\n",
    "consonants = [\"b\", \"c\", \"d\", \"f\", \"g\", \"h\", \"j\", \"k\", \"l\", \"m\", \"n\", \"p\", \"q\", \"r\", \"s\", \"t\", \"v\", \"w\", \"x\", \"z\",]"
   ]
  },
  {
   "cell_type": "code",
   "execution_count": null,
   "id": "d0e99d9b",
   "metadata": {},
   "outputs": [],
   "source": [
    "def combine_tuple(tup):\n",
    "    col = []\n",
    "    for i in tup:\n",
    "        col.append(\"\".join(i))\n",
    "    return col"
   ]
  },
  {
   "cell_type": "code",
   "execution_count": null,
   "id": "b5465010",
   "metadata": {},
   "outputs": [],
   "source": [
    "vowels_double_str = combine_tuple(list(itertools.permutations(vowels, 2)))\n",
    "consonants_double_str = combine_tuple(list(itertools.permutations(consonants, 2)))\n",
    "\n",
    "vowels_total = vowels_double_str+vowels\n",
    "consonants_total = consonants_double_str+consonants\n",
    "\n",
    "vowel_start_permutations = list(itertools.permutations(vowels_total+consonants_total, 2))\n",
    "consonant_start_permutations = list(itertools.permutations(consonants_total+ vowels_total, 2))"
   ]
  },
  {
   "cell_type": "code",
   "execution_count": null,
   "id": "f4cc6c09",
   "metadata": {},
   "outputs": [],
   "source": [
    "def combine_threes(l1, l2, l3):\n",
    "    \"\"\"l1-l3 = vowel, consonant, vowel, or consonant, vowel, consonant\"\"\"\n",
    "    col = []\n",
    "    for i in l1:\n",
    "        for j in l2:\n",
    "            for k in l3:\n",
    "                col.append(\"\".join(i+j+k))\n",
    "    return col"
   ]
  },
  {
   "cell_type": "code",
   "execution_count": null,
   "id": "be74b895",
   "metadata": {},
   "outputs": [],
   "source": [
    "cvc = combine_threes(consonants_total, vowels_total, consonants_total)\n",
    "vcv = combine_threes(vowels_total, consonants_total, vowels_total)\n",
    "simple = combine_threes(consonants, vowels, consonants) + combine_threes(vowels, consonants, vowels)\n",
    "vast = cvc+vcv"
   ]
  },
  {
   "cell_type": "code",
   "execution_count": null,
   "id": "900937bc",
   "metadata": {},
   "outputs": [],
   "source": [
    "def construct_lingual_sound(col, length):\n",
    "    \"\"\"col[] = possible letter combos, length = #\"\"\"\n",
    "    purchased = []\n",
    "    sound = []\n",
    "    for i in range(length):\n",
    "        dig = random.randrange(1, len(col)-1, 1)\n",
    "        if dig not in purchased:\n",
    "            sound.append(col[dig-1])\n",
    "            purchased.append(dig) \n",
    "    return sound"
   ]
  },
  {
   "cell_type": "code",
   "execution_count": null,
   "id": "7c2c2595",
   "metadata": {},
   "outputs": [],
   "source": [
    "construct_lingual_sound(simple, 5)"
   ]
  },
  {
   "cell_type": "code",
   "execution_count": null,
   "id": "07461a83",
   "metadata": {},
   "outputs": [],
   "source": []
  }
 ],
 "metadata": {
  "kernelspec": {
   "display_name": "Python 3 (ipykernel)",
   "language": "python",
   "name": "python3"
  },
  "language_info": {
   "codemirror_mode": {
    "name": "ipython",
    "version": 3
   },
   "file_extension": ".py",
   "mimetype": "text/x-python",
   "name": "python",
   "nbconvert_exporter": "python",
   "pygments_lexer": "ipython3",
   "version": "3.9.7"
  }
 },
 "nbformat": 4,
 "nbformat_minor": 5
}
